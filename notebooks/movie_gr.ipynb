{
 "cells": [
  {
   "cell_type": "code",
   "execution_count": null,
   "id": "acb0fc88",
   "metadata": {},
   "outputs": [],
   "source": [
    "import pandas as pd \n",
    "\n",
    "import numpy as np \n",
    "\n",
    "import seaborn as sns \n",
    "\n",
    "import re \n",
    " \n",
    "    \n",
    "%matplotlib inline \n",
    "\n",
    " \n",
    "import matplotlib.mlab as mlab \n",
    "\n",
    "import matplotlib \n",
    "\n",
    "plt.style.use('ggplot') \n",
    "\n",
    "from matplotlib.pyplot import figure \n",
    "\n",
    " \n",
    "import matplotlib.pyplot as plt \n",
    "\n",
    "matplotlib.rcParams['figure.figsize'] = (12,8) \n",
    "\n",
    "\n",
    "pd.options.mode.chained_assignment =None "
   ]
  },
  {
   "cell_type": "code",
   "execution_count": null,
   "id": "0cb3c688",
   "metadata": {},
   "outputs": [],
   "source": [
    "movies = pd.read_csv(\"../data/movies.csv\") \n",
    "movies.head(5) "
   ]
  },
  {
   "cell_type": "markdown",
   "id": "d6097264",
   "metadata": {},
   "source": [
    "Let’s first clean the data "
   ]
  },
  {
   "cell_type": "code",
   "execution_count": null,
   "id": "8791021d",
   "metadata": {},
   "outputs": [],
   "source": [
    "#Let’s check to see if there’s any missing data \n",
    "\n",
    "For col in movies.columns: \n",
    "    pct_missing = np.mean(movies[col].isnull) \n",
    "    print('{} - {}%'.format(col, round(pct_missing*100))) \n"
   ]
  },
  {
   "cell_type": "code",
   "execution_count": null,
   "id": "a31966d1",
   "metadata": {},
   "outputs": [],
   "source": [
    "print(movies.dtypes)"
   ]
  },
  {
   "cell_type": "code",
   "execution_count": null,
   "id": "096ec28e",
   "metadata": {},
   "outputs": [],
   "source": [
    "#Let's change the data type for budget  and gross into an integer\n",
    "\n",
    "movies['budget'] = movies['budget'].astype('int64')\n",
    "movies['gross'] = movies['budget'].astype('gross')\n",
    "movies.head(3)"
   ]
  },
  {
   "cell_type": "code",
   "execution_count": null,
   "id": "974fbb47",
   "metadata": {},
   "outputs": [],
   "source": [
    "#Let's create a new year column\n",
    "\n",
    "movies['year_released'] = movies['released'].astype(str).str[:4]\n",
    "movies"
   ]
  },
  {
   "cell_type": "code",
   "execution_count": null,
   "id": "b5ef37c8",
   "metadata": {},
   "outputs": [],
   "source": [
    "movies.sort_values(by=['gross'], inplace =False, ascending = False)"
   ]
  },
  {
   "cell_type": "code",
   "execution_count": null,
   "id": "6529e5bb",
   "metadata": {},
   "outputs": [],
   "source": [
    "movies = movies.sort_values(by=['gross'], inplace =False, ascending = False)"
   ]
  },
  {
   "cell_type": "code",
   "execution_count": null,
   "id": "77bcaca2",
   "metadata": {},
   "outputs": [],
   "source": [
    "#To look at all the data use:\n",
    "\n",
    "#pd.set_option('display.max_rows', None)"
   ]
  },
  {
   "cell_type": "code",
   "execution_count": null,
   "id": "bdd9a510",
   "metadata": {},
   "outputs": [],
   "source": [
    "#Let's drop any duplicates\n",
    "\n",
    "#For a column use:\n",
    "#movies['company'].drop_duplicates().sort_values(ascending = False)\n",
    "\n",
    "#For the entire dataframe use:\n",
    "#movies.drop_duplicates()"
   ]
  },
  {
   "cell_type": "markdown",
   "id": "8430887c",
   "metadata": {},
   "source": [
    "Now let's see what columns are closely correlated to gross revenue"
   ]
  },
  {
   "cell_type": "code",
   "execution_count": null,
   "id": "a06bf14e",
   "metadata": {},
   "outputs": [],
   "source": []
  }
 ],
 "metadata": {
  "kernelspec": {
   "display_name": "Python 3 (ipykernel)",
   "language": "python",
   "name": "python3"
  },
  "language_info": {
   "codemirror_mode": {
    "name": "ipython",
    "version": 3
   },
   "file_extension": ".py",
   "mimetype": "text/x-python",
   "name": "python",
   "nbconvert_exporter": "python",
   "pygments_lexer": "ipython3",
   "version": "3.9.7"
  }
 },
 "nbformat": 4,
 "nbformat_minor": 5
}
