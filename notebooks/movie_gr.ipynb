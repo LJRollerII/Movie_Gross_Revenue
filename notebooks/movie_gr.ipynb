{
 "cells": [
  {
   "cell_type": "code",
   "execution_count": null,
   "id": "dbcc0106",
   "metadata": {},
   "outputs": [],
   "source": [
    "import pandas as pd\n",
    "import numpy as np\n",
    "import seaborn as sns\n",
    "import re \n",
    "\n",
    "import matplotlib.pyplot as plt\n",
    "import matplotlib.mlab as mlab\n",
    "import matplotlib\n",
    "plt.style.use('ggplot')\n",
    "from matplotlib.pyplot import figure\n",
    "\n",
    "%matplotlib inline\n",
    "matplotlib.rcParams['figure.figsize'] = (12,8)\n",
    "\n",
    "pd.options.mode.chained_assignment = None"
   ]
  },
  {
   "cell_type": "code",
   "execution_count": null,
   "id": "734a1c7b",
   "metadata": {},
   "outputs": [],
   "source": [
    "movies = pd.read_csv(\"../data/movies.csv\") \n",
    "movies.head(5) "
   ]
  },
  {
   "cell_type": "markdown",
   "id": "98c3cd74",
   "metadata": {},
   "source": [
    "Let’s first clean the data "
   ]
  },
  {
   "cell_type": "code",
   "execution_count": null,
   "id": "b3c9bd86",
   "metadata": {},
   "outputs": [],
   "source": [
    "#Let’s check to see if there’s any missing data \n",
    "\n",
    "for col in movies.columns:\n",
    "    pct_missing = np.mean(movies[col].isnull())\n",
    "    print('{} - {}%'.format(col, round(pct_missing*100)))"
   ]
  },
  {
   "cell_type": "code",
   "execution_count": null,
   "id": "84fb6b50",
   "metadata": {},
   "outputs": [],
   "source": [
    "print(movies.dtypes)"
   ]
  },
  {
   "cell_type": "code",
   "execution_count": null,
   "id": "9cb844ba",
   "metadata": {},
   "outputs": [],
   "source": [
    "#Let's change the data type for budget  and gross into an integer\n",
    "\n",
    "movies['budget'] = movies['budget'].astype('int64')\n",
    "movies['gross'] = movies['gross'].astype('int64')\n",
    "movies.head(3)"
   ]
  },
  {
   "cell_type": "code",
   "execution_count": null,
   "id": "bc72f223",
   "metadata": {},
   "outputs": [],
   "source": [
    "#Let's create a new year column\n",
    "\n",
    "movies['year_released'] = movies['released'].astype(str).str[:4]\n",
    "movies"
   ]
  },
  {
   "cell_type": "code",
   "execution_count": null,
   "id": "336e5f19",
   "metadata": {},
   "outputs": [],
   "source": [
    "movies.sort_values(by=['gross'], inplace = False, ascending = False)"
   ]
  },
  {
   "cell_type": "code",
   "execution_count": null,
   "id": "e3fdb48c",
   "metadata": {},
   "outputs": [],
   "source": [
    "movies = movies.sort_values(by=['gross'], inplace =False, ascending = False)"
   ]
  },
  {
   "cell_type": "code",
   "execution_count": null,
   "id": "52cf9cda",
   "metadata": {},
   "outputs": [],
   "source": [
    "#To look at all the data use:\n",
    "\n",
    "#pd.set_option('display.max_rows', None)"
   ]
  },
  {
   "cell_type": "code",
   "execution_count": null,
   "id": "3468a90a",
   "metadata": {},
   "outputs": [],
   "source": [
    "#Let's drop any duplicates\n",
    "\n",
    "#For a column use:\n",
    "#movies['company'].drop_duplicates().sort_values(ascending = False)\n",
    "\n",
    "#For the entire dataframe use:\n",
    "#movies.drop_duplicates()"
   ]
  },
  {
   "cell_type": "markdown",
   "id": "16cace20",
   "metadata": {},
   "source": [
    "Now let's see what columns are closely correlated to gross revenue"
   ]
  },
  {
   "cell_type": "code",
   "execution_count": null,
   "id": "0fa085e8",
   "metadata": {},
   "outputs": [],
   "source": [
    "#Scatter plot budget vs gross\n",
    "plt.scatter(x = movies['budget'], y = movies['gross']\n",
    "plt.title('Budget vs Gross Revenue')\n",
    "plt.xlabel('Gross Revenue')\n",
    "plt.ylabel('Film Budget')\n",
    "plt.show()"
   ]
  },
  {
   "cell_type": "code",
   "execution_count": null,
   "id": "2ce54154",
   "metadata": {},
   "outputs": [],
   "source": [
    "movies.head()"
   ]
  },
  {
   "cell_type": "code",
   "execution_count": null,
   "id": "180d390e",
   "metadata": {},
   "outputs": [],
   "source": [
    "#Budget vs Gross using Seaborn\n",
    "sns.regplot(x=\"gross\", y=\"budget\", data=movies, scatter_kws{\"color\":\"red\"}, line_kws{\"color\": \"blue\"})"
   ]
  },
  {
   "cell_type": "markdown",
   "id": "cfff9408",
   "metadata": {},
   "source": [
    "Let's start looking at correlation. There are three types of correlation: pearson, kendall, spearman.\n",
    "Pearson is the default method in Python."
   ]
  },
  {
   "cell_type": "code",
   "execution_count": null,
   "id": "4b70ed6a",
   "metadata": {},
   "outputs": [],
   "source": [
    "#Use movies.corr(method= '')to change correlation types.\n",
    "movies.corr()"
   ]
  },
  {
   "cell_type": "code",
   "execution_count": null,
   "id": "ac212c71",
   "metadata": {},
   "outputs": [],
   "source": [
    "correlation_matrix = movies.corr()\n",
    "sns.heatmap(correlation_matrix, annot = True)\n",
    "plt.title(\"Correlation matrix for Numeric Features\")\n",
    "plt.xlabel(\"Movie features\")\n",
    "plt.ylabel(\"Movie features\")\n",
    "plt.show()"
   ]
  },
  {
   "cell_type": "code",
   "execution_count": null,
   "id": "d86b8777",
   "metadata": {},
   "outputs": [],
   "source": [
    "#Let's look at company\n",
    "#We'll need to set a number for each company in order to enter it into the correlation matrix\n",
    "movies.head()"
   ]
  },
  {
   "cell_type": "code",
   "execution_count": null,
   "id": "3b4f669c",
   "metadata": {},
   "outputs": [],
   "source": [
    "#We'll need to set a number for each column that's a string\n",
    "movies_numerized = movies\n",
    "for col_name in movies_numerized.columns:\n",
    "    if(movies_numerized[col_name].dtype =='object']):\n",
    "        movies_numerized[col_name] = movies_numerized[col_name].astype('category')\n",
    "        movies_numerized[col_name] = movies_numerized[col_name].cat.codes\n",
    "\n",
    "movies_numerized"
   ]
  },
  {
   "cell_type": "code",
   "execution_count": null,
   "id": "fd194a4d",
   "metadata": {},
   "outputs": [],
   "source": [
    "#Let's compare this to our normal movie data frame\n",
    "movies"
   ]
  },
  {
   "cell_type": "code",
   "execution_count": null,
   "id": "fb6c9bce",
   "metadata": {},
   "outputs": [],
   "source": [
    "correlation_matrix = movies_numerized.corr()\n",
    "sns.heatmap(correlation_matrix, annot = True)\n",
    "plt.title(\"Correlation matrix for Numeric Features\")\n",
    "plt.xlabel(\"Movie features\")\n",
    "plt.ylabel(\"Movie features\")\n",
    "plt.show()"
   ]
  },
  {
   "cell_type": "code",
   "execution_count": null,
   "id": "78d37f68",
   "metadata": {},
   "outputs": [],
   "source": [
    "# Are there any Outliers?\n",
    "\n",
    "df.boxplot(column=['gross'])"
   ]
  }
 ],
 "metadata": {
  "kernelspec": {
   "display_name": "Python 3 (ipykernel)",
   "language": "python",
   "name": "python3"
  },
  "language_info": {
   "codemirror_mode": {
    "name": "ipython",
    "version": 3
   },
   "file_extension": ".py",
   "mimetype": "text/x-python",
   "name": "python",
   "nbconvert_exporter": "python",
   "pygments_lexer": "ipython3",
   "version": "3.9.7"
  }
 },
 "nbformat": 4,
 "nbformat_minor": 5
}
