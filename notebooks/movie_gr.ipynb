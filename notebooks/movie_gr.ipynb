{
 "cells": [
  {
   "cell_type": "code",
   "execution_count": null,
   "id": "8da55ad6",
   "metadata": {},
   "outputs": [],
   "source": [
    "import pandas as pd\n",
    "import numpy as np\n",
    "import seaborn as sns\n",
    "import re \n",
    "\n",
    "import matplotlib.pyplot as plt\n",
    "import matplotlib.mlab as mlab\n",
    "import matplotlib\n",
    "plt.style.use('ggplot')\n",
    "from matplotlib.pyplot import figure\n",
    "\n",
    "%matplotlib inline\n",
    "matplotlib.rcParams['figure.figsize'] = (12,8)\n",
    "\n",
    "pd.options.mode.chained_assignment = None"
   ]
  },
  {
   "cell_type": "code",
   "execution_count": null,
   "id": "cf4a8d54",
   "metadata": {},
   "outputs": [],
   "source": [
    "movies = pd.read_csv(\"../data/movies.csv\") \n",
    "movies.head(5) "
   ]
  },
  {
   "cell_type": "markdown",
   "id": "c4ed7d6f",
   "metadata": {},
   "source": [
    "Let’s first clean the data "
   ]
  },
  {
   "cell_type": "code",
   "execution_count": null,
   "id": "70a77a87",
   "metadata": {},
   "outputs": [],
   "source": [
    "#Let’s check to see if there’s any missing data \n",
    "\n",
    "for col in movies.columns:\n",
    "    pct_missing = np.mean(movies[col].isnull())\n",
    "    print('{} - {}%'.format(col, round(pct_missing*100)))"
   ]
  },
  {
   "cell_type": "code",
   "execution_count": null,
   "id": "4ca0d97d",
   "metadata": {},
   "outputs": [],
   "source": [
    "print(movies.dtypes)"
   ]
  },
  {
   "cell_type": "code",
   "execution_count": null,
   "id": "5089ed53",
   "metadata": {},
   "outputs": [],
   "source": [
    "#Let's change the data type for budget and gross into an integer\n",
    "\n",
    "movies['budget'] = movies['budget'].astype('int64')\n",
    "movies['gross'] = movies['gross'].astype('int64')\n",
    "movies.head(3)"
   ]
  },
  {
   "cell_type": "code",
   "execution_count": null,
   "id": "6e8b6ac5",
   "metadata": {},
   "outputs": [],
   "source": [
    "#Let's create a new year column\n",
    "\n",
    "movies['year_released'] = movies['released'].astype(str).str[:4]\n",
    "movies"
   ]
  },
  {
   "cell_type": "code",
   "execution_count": null,
   "id": "89da6fa1",
   "metadata": {},
   "outputs": [],
   "source": [
    "movies.sort_values(by=['gross'], inplace = False, ascending = False)"
   ]
  },
  {
   "cell_type": "code",
   "execution_count": null,
   "id": "e066f27c",
   "metadata": {},
   "outputs": [],
   "source": [
    "movies = movies.sort_values(by=['gross'], inplace =False, ascending = False)"
   ]
  },
  {
   "cell_type": "code",
   "execution_count": null,
   "id": "9cd5e14d",
   "metadata": {},
   "outputs": [],
   "source": [
    "#To look at all the data use:\n",
    "\n",
    "#pd.set_option('display.max_rows', None)"
   ]
  },
  {
   "cell_type": "code",
   "execution_count": null,
   "id": "89d4b374",
   "metadata": {},
   "outputs": [],
   "source": [
    "#Let's drop any duplicates\n",
    "\n",
    "#For a column use:\n",
    "#movies['company'].drop_duplicates().sort_values(ascending = False)\n",
    "\n",
    "#For the entire dataframe use:\n",
    "#movies.drop_duplicates()"
   ]
  },
  {
   "cell_type": "markdown",
   "id": "a10aaf70",
   "metadata": {},
   "source": [
    "Now let's see what columns are closely correlated to gross revenue"
   ]
  },
  {
   "cell_type": "code",
   "execution_count": null,
   "id": "9763bb5a",
   "metadata": {},
   "outputs": [],
   "source": [
    "#Scatter plot budget vs gross\n",
    "plt.scatter(x = movies['budget'], y = movies['gross']\n",
    "plt.title('Budget vs Gross Revenue')\n",
    "plt.xlabel('Gross Revenue')\n",
    "plt.ylabel('Film Budget')\n",
    "plt.show()"
   ]
  },
  {
   "cell_type": "code",
   "execution_count": null,
   "id": "7000ada9",
   "metadata": {},
   "outputs": [],
   "source": [
    "movies.head()"
   ]
  },
  {
   "cell_type": "code",
   "execution_count": null,
   "id": "8f478656",
   "metadata": {},
   "outputs": [],
   "source": [
    "#Budget vs Gross using Seaborn\n",
    "sns.regplot(x=\"gross\", y=\"budget\", data=movies, scatter_kws{\"color\":\"red\"}, line_kws{\"color\": \"blue\"})"
   ]
  },
  {
   "cell_type": "code",
   "execution_count": null,
   "id": "9a1d50e3",
   "metadata": {},
   "outputs": [],
   "source": [
    "# Are there any Outliers?\n",
    "\n",
    "df.boxplot(column=['gross'])"
   ]
  },
  {
   "cell_type": "markdown",
   "id": "6b164adb",
   "metadata": {},
   "source": [
    "Let's start looking at correlation. \n"
   ]
  },
  {
   "cell_type": "markdown",
   "id": "e20b58b7",
   "metadata": {},
   "source": [
    "There are three types of correlation: pearson, kendall, spearman."
   ]
  },
  {
   "cell_type": "markdown",
   "id": "1bc2bec5",
   "metadata": {},
   "source": [
    "Pearson is the default method in Python."
   ]
  },
  {
   "cell_type": "code",
   "execution_count": null,
   "id": "49237ce5",
   "metadata": {},
   "outputs": [],
   "source": [
    "#Use movies.corr(method= '')to change correlation types.\n",
    "movies.corr()"
   ]
  },
  {
   "cell_type": "code",
   "execution_count": null,
   "id": "339b3b17",
   "metadata": {},
   "outputs": [],
   "source": [
    "movies.corr(method = 'pearson')"
   ]
  },
  {
   "cell_type": "code",
   "execution_count": null,
   "id": "23633079",
   "metadata": {},
   "outputs": [],
   "source": [
    "movies.corr(method= 'kendall')"
   ]
  },
  {
   "cell_type": "code",
   "execution_count": null,
   "id": "6c24d93a",
   "metadata": {},
   "outputs": [],
   "source": [
    "movies.corr(method= 'spearman')"
   ]
  },
  {
   "cell_type": "code",
   "execution_count": null,
   "id": "6603fed9",
   "metadata": {},
   "outputs": [],
   "source": [
    "correlation_matrix = movies.corr()\n",
    "sns.heatmap(correlation_matrix, annot = True)\n",
    "plt.title(\"Correlation matrix for Numeric Features\")\n",
    "plt.xlabel(\"Movie features\")\n",
    "plt.ylabel(\"Movie features\")\n",
    "plt.show()"
   ]
  },
  {
   "cell_type": "code",
   "execution_count": null,
   "id": "3b8df785",
   "metadata": {},
   "outputs": [],
   "source": [
    "#Let's look at company\n",
    "#We'll need to set a number for each company in order to enter it into the correlation matrix\n",
    "movies.head()"
   ]
  },
  {
   "cell_type": "code",
   "execution_count": null,
   "id": "c5478dd5",
   "metadata": {},
   "outputs": [],
   "source": [
    "#We'll need to set a number for each column that's a string\n",
    "movies_numerized = movies\n",
    "for col_name in movies_numerized.columns:\n",
    "    if(movies_numerized[col_name].dtype =='object'):\n",
    "        movies_numerized[col_name] = movies_numerized[col_name].astype('category')\n",
    "        movies_numerized[col_name] = movies_numerized[col_name].cat.codes\n",
    "\n",
    "movies_numerized"
   ]
  },
  {
   "cell_type": "code",
   "execution_count": null,
   "id": "0a923034",
   "metadata": {},
   "outputs": [],
   "source": [
    "#Alternative method\n",
    "#Using factorize - This assigns a random numeric value for each unique categorical value.\n",
    "#movies.apply(lambda x: x.factorize()[0]).corr(method='pearson')"
   ]
  },
  {
   "cell_type": "code",
   "execution_count": null,
   "id": "dab5e100",
   "metadata": {},
   "outputs": [],
   "source": [
    "#Let's compare this to our normal movie data frame\n",
    "movies"
   ]
  },
  {
   "cell_type": "code",
   "execution_count": null,
   "id": "84178eb4",
   "metadata": {},
   "outputs": [],
   "source": [
    "correlation_matrix = movies_numerized.corr()\n",
    "sns.heatmap(correlation_matrix, annot = True)\n",
    "plt.title(\"Correlation matrix for Numeric Features\")\n",
    "plt.xlabel(\"Movie features\")\n",
    "plt.ylabel(\"Movie features\")\n",
    "plt.show()"
   ]
  },
  {
   "cell_type": "code",
   "execution_count": null,
   "id": "5eded827",
   "metadata": {},
   "outputs": [],
   "source": [
    "movies_numerized.corr()"
   ]
  },
  {
   "cell_type": "code",
   "execution_count": null,
   "id": "cc135a8e",
   "metadata": {},
   "outputs": [],
   "source": [
    "#Let's used unstack to get a quicker output of the columns that have the highest correlation to gross revenue.\n",
    "correlation_mat = movies_numerized.corr()\n",
    "corr_pairs = correlation_mat.unstack()\n",
    "corr_pairs"
   ]
  },
  {
   "cell_type": "code",
   "execution_count": null,
   "id": "9d29890b",
   "metadata": {},
   "outputs": [],
   "source": [
    "sorted_pairs = corr_pairs.sort_values()\n",
    "sorted_pairs"
   ]
  },
  {
   "cell_type": "code",
   "execution_count": null,
   "id": "209e1a33",
   "metadata": {},
   "outputs": [],
   "source": [
    "high_corr = sorted_pairs[(sorted_pairs) > 0.5]\n",
    "high_corr"
   ]
  },
  {
   "cell_type": "markdown",
   "id": "2795f604",
   "metadata": {},
   "source": [
    "In conclusion budget has the highest correlation to gross revenue. Votes also have a decent correlation to gross revenue."
   ]
  }
 ],
 "metadata": {
  "kernelspec": {
   "display_name": "Python 3 (ipykernel)",
   "language": "python",
   "name": "python3"
  },
  "language_info": {
   "codemirror_mode": {
    "name": "ipython",
    "version": 3
   },
   "file_extension": ".py",
   "mimetype": "text/x-python",
   "name": "python",
   "nbconvert_exporter": "python",
   "pygments_lexer": "ipython3",
   "version": "3.9.7"
  }
 },
 "nbformat": 4,
 "nbformat_minor": 5
}
